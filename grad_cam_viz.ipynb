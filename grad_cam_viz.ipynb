{
 "cells": [
  {
   "cell_type": "markdown",
   "metadata": {},
   "source": [
    "## this notebook is for interactive vizualisation of a given gradcam heatmap "
   ]
  },
  {
   "cell_type": "code",
   "execution_count": 11,
   "metadata": {},
   "outputs": [],
   "source": [
    "from ipywidgets import widgets\n",
    "import matplotlib.pyplot as plt\n",
    "import numpy as np\n",
    "import matplotlib\n",
    "import nibabel as nib\n",
    "from skimage.transform import resize"
   ]
  },
  {
   "cell_type": "code",
   "execution_count": 13,
   "metadata": {},
   "outputs": [
    {
     "data": {
      "text/plain": [
       "array([[[10.22170329, 10.10828767,  9.76804079,  9.72491812,\n",
       "          9.7105439 ],\n",
       "        [10.28886122, 10.20203719,  9.9415651 ,  9.72931815,\n",
       "          9.65856916],\n",
       "        [10.49033498, 10.48328574, 10.46213801,  9.74251822,\n",
       "          9.50264496],\n",
       "        [ 9.91045023,  9.91483992,  9.92800897,  9.56481537,\n",
       "          9.44375084],\n",
       "        [ 9.71715532,  9.72535798,  9.74996596,  9.50558109,\n",
       "          9.42411947]],\n",
       "\n",
       "       [[10.31630175, 10.21122928,  9.89601187,  9.8053263 ,\n",
       "          9.77509778],\n",
       "        [10.35190749, 10.25583694,  9.96762527,  9.67933345,\n",
       "          9.58323618],\n",
       "        [10.45872471, 10.3896599 , 10.18246547,  9.3013549 ,\n",
       "          9.00765138],\n",
       "        [ 9.9503914 ,  9.92554614,  9.85101033,  9.26493275,\n",
       "          9.06957356],\n",
       "        [ 9.78094697,  9.77084155,  9.74052528,  9.25279203,\n",
       "          9.09021428]],\n",
       "\n",
       "       [[10.60009712, 10.52005412, 10.27992512, 10.04655085,\n",
       "          9.96875943],\n",
       "        [10.54104632, 10.41723619, 10.04580581,  9.52937938,\n",
       "          9.35723723],\n",
       "        [10.36389391, 10.1087824 ,  9.34344786,  7.97786495,\n",
       "          7.52267065],\n",
       "        [10.07021491,  9.95766479,  9.62001442,  8.36528489,\n",
       "          7.94704172],\n",
       "        [ 9.97232192,  9.90729225,  9.71220327,  8.49442487,\n",
       "          8.08849874]],\n",
       "\n",
       "       [[10.51969111, 10.55274001, 10.65188671, 10.08848437,\n",
       "          9.90068359],\n",
       "        [10.28698146, 10.34068575, 10.50179862, 10.01352984,\n",
       "          9.85077358],\n",
       "        [ 9.5888525 ,  9.70452297, 10.05153437,  9.78866625,\n",
       "          9.70104354],\n",
       "        [ 9.63140941,  9.62773954,  9.61672994,  9.6807649 ,\n",
       "          9.70210989],\n",
       "        [ 9.64559505,  9.60214507,  9.47179513,  9.64479779,\n",
       "          9.70246534]],\n",
       "\n",
       "       [[10.4928891 , 10.5636353 , 10.7758739 , 10.10246221,\n",
       "          9.87799164],\n",
       "        [10.20229317, 10.31516893, 10.65379623, 10.17491332,\n",
       "         10.01528569],\n",
       "        [ 9.33050537,  9.56976983, 10.28756321, 10.39226668,\n",
       "         10.42716783],\n",
       "        [ 9.48514091,  9.51776446,  9.61563512, 10.11925824,\n",
       "         10.28713261],\n",
       "        [ 9.53668609,  9.50042934,  9.39165909, 10.02825543,\n",
       "         10.24045421]]])"
      ]
     },
     "execution_count": 13,
     "metadata": {},
     "output_type": "execute_result"
    }
   ],
   "source": [
    "ex=np.random.normal(10,1,[3,3,3])\n",
    "resize(ex,(5,5,5))"
   ]
  },
  {
   "cell_type": "code",
   "execution_count": 20,
   "metadata": {},
   "outputs": [],
   "source": [
    "MNI_1mm = nib.load('MNI152_T1_1mm_brain.nii.gz').get_fdata()\n",
    "MNI_2mm = nib.load('MNI152_T1_2mm_brain.nii.gz').get_fdata()\n",
    "MNI_1mm = resize(MNI_1mm,(120,140,120))"
   ]
  },
  {
   "cell_type": "code",
   "execution_count": 21,
   "metadata": {},
   "outputs": [],
   "source": [
    "hpath='gcampadded1mm.npy'\n",
    "dpath='/home/shane/datasets/cropped_local_data.npy'\n",
    "hmap = np.load(hpath)\n",
    "data_arr = np.load(dpath)"
   ]
  },
  {
   "cell_type": "code",
   "execution_count": 102,
   "metadata": {},
   "outputs": [],
   "source": [
    "valid_mask = [np.any(~np.isnan(hmap[i])) for i in range(hmap.shape[0])]\n",
    "valid_entries = hmap[valid_mask]\n",
    "hmap_av = np.average(valid_entries,axis=0)\n",
    "pat=7\n",
    "data=data_arr[pat]# default patient to vizualise\n",
    "#hmap_=hmap[pat]\n",
    "hmap_=hmap_av"
   ]
  },
  {
   "cell_type": "code",
   "execution_count": 103,
   "metadata": {},
   "outputs": [],
   "source": [
    "# create mask for viz \n",
    "msk = MNI_1mm > 0.0\n",
    "msk = msk*1\n",
    "#masked_hmap=np.ma.masked_array(data=hmap_av,mask=~msk,fill_value=0.0)\n",
    "masked_hmap = hmap_av * msk       \n",
    "        "
   ]
  },
  {
   "cell_type": "code",
   "execution_count": 104,
   "metadata": {},
   "outputs": [
    {
     "data": {
      "text/plain": [
       "False"
      ]
     },
     "execution_count": 104,
     "metadata": {},
     "output_type": "execute_result"
    }
   ],
   "source": [
    "#np.all(msk==True)\n",
    "np.all(masked_hmap == hmap_av)"
   ]
  },
  {
   "cell_type": "code",
   "execution_count": 105,
   "metadata": {
    "scrolled": false
   },
   "outputs": [
    {
     "data": {
      "application/vnd.jupyter.widget-view+json": {
       "model_id": "571d1a493c424aaea949df08633bdb83",
       "version_major": 2,
       "version_minor": 0
      },
      "text/plain": [
       "HBox(children=(VBox(children=(Label(value='Index:'), IntSlider(value=50, max=120), Label(value='Plane:'), IntS…"
      ]
     },
     "metadata": {},
     "output_type": "display_data"
    }
   ],
   "source": [
    "data=MNI_1mm# default patient to vizualise\n",
    "#hmap_=hmap[pat]\n",
    "hmap_=masked_hmap\n",
    "def f(ind,plane,alpha):\n",
    "    fig = plt.figure(figsize=(15,8))\n",
    "    if plane == 0:\n",
    "        im1 = plt.imshow(np.rot90(data[ind]),cmap='gray')\n",
    "        im2 = plt.imshow(np.rot90(hmap_[ind]), cmap='jet', alpha=alpha)\n",
    "    if plane == 1:\n",
    "        im1 = plt.imshow(np.rot90(data[:,ind]),cmap='gray')\n",
    "        im2 = plt.imshow(np.rot90(hmap_[:,ind]), cmap='jet', alpha=alpha)\n",
    "    if plane == 2:\n",
    "        im1 = plt.imshow(np.rot90(data[:,:,ind]),cmap='gray')\n",
    "        im2 = plt.imshow(np.rot90(hmap_[:,:,ind]), cmap='jet', alpha=alpha)\n",
    "    fig.colorbar(im2)\n",
    "    fig.suptitle('1mm subsample with padding')\n",
    "    _=plt.show()\n",
    "    \n",
    "from ipywidgets import widgets\n",
    "\n",
    "ind = widgets.IntSlider(min=0,max=data.shape[0],value=50)\n",
    "plane = widgets.IntSlider(min=0,max=2,value=1)\n",
    "alpha = widgets.FloatSlider(min=0.0,max=1.0,value=0.4,step=0.01)\n",
    "ui = widgets.VBox([widgets.Label(\"Index:\"),ind, widgets.Label(\"Plane:\"),plane, widgets.Label(\"Alpha:\"),alpha])\n",
    "\n",
    "out = widgets.interactive_output(f, {'ind': ind, 'plane': plane, 'alpha': alpha})\n",
    "\n",
    "widgets.HBox([ui,out])"
   ]
  },
  {
   "cell_type": "code",
   "execution_count": 20,
   "metadata": {},
   "outputs": [],
   "source": []
  },
  {
   "cell_type": "code",
   "execution_count": 36,
   "metadata": {},
   "outputs": [],
   "source": [
    "# 2mm\n",
    "hpath='gcam2mm.npy'\n",
    "dpath='/home/shane/phd_resources/local_linear_reg_data_2mm_ref.npy'\n",
    "hmap = np.load(hpath)\n",
    "data_arr = np.load(dpath)\n",
    "valid_mask = [np.any(~np.isnan(hmap[i])) for i in range(hmap.shape[0])]\n",
    "valid_entries = hmap[valid_mask]\n",
    "hmap_av = np.average(valid_entries,axis=0)"
   ]
  },
  {
   "cell_type": "code",
   "execution_count": 37,
   "metadata": {},
   "outputs": [
    {
     "data": {
      "text/plain": [
       "(91, 109, 91)"
      ]
     },
     "execution_count": 37,
     "metadata": {},
     "output_type": "execute_result"
    }
   ],
   "source": [
    "hmap_av.shape"
   ]
  },
  {
   "cell_type": "code",
   "execution_count": 38,
   "metadata": {},
   "outputs": [
    {
     "data": {
      "application/vnd.jupyter.widget-view+json": {
       "model_id": "306fcd4fbab54b91a1a378a9483f10e4",
       "version_major": 2,
       "version_minor": 0
      },
      "text/plain": [
       "HBox(children=(VBox(children=(Label(value='Index:'), IntSlider(value=50, max=120), Label(value='Plane:'), IntS…"
      ]
     },
     "metadata": {},
     "output_type": "display_data"
    }
   ],
   "source": [
    "def f(ind,plane,alpha):\n",
    "    fig = plt.figure(figsize=(15,8))\n",
    "    if plane == 0:\n",
    "        im1 = plt.imshow(np.rot90(data[ind]),cmap='gray')\n",
    "        im2 = plt.imshow(np.rot90(hmap_[ind]), cmap='jet', alpha=alpha)\n",
    "    if plane == 1:\n",
    "        im1 = plt.imshow(np.rot90(data[:,ind]),cmap='gray')\n",
    "        im2 = plt.imshow(np.rot90(hmap_[:,ind]), cmap='jet', alpha=alpha)\n",
    "    if plane == 2:\n",
    "        im1 = plt.imshow(np.rot90(data[:,:,ind]),cmap='gray')\n",
    "        im2 = plt.imshow(np.rot90(hmap_[:,:,ind]), cmap='jet', alpha=alpha)\n",
    "    fig.colorbar(im2)\n",
    "    fig.suptitle('2mm full')\n",
    "    _=plt.show()\n",
    "    \n",
    "ind = widgets.IntSlider(min=0,max=data.shape[0],value=50)\n",
    "plane = widgets.IntSlider(min=0,max=2,value=1)\n",
    "alpha = widgets.FloatSlider(min=0.0,max=1.0,value=0.4,step=0.01)\n",
    "ui = widgets.VBox([widgets.Label(\"Index:\"),ind, widgets.Label(\"Plane:\"),plane, widgets.Label(\"Alpha:\"),alpha])\n",
    "\n",
    "out = widgets.interactive_output(f, {'ind': ind, 'plane': plane, 'alpha': alpha})\n",
    "\n",
    "widgets.HBox([ui,out])"
   ]
  }
 ],
 "metadata": {
  "kernelspec": {
   "display_name": "Python 3",
   "language": "python",
   "name": "python3"
  },
  "language_info": {
   "codemirror_mode": {
    "name": "ipython",
    "version": 3
   },
   "file_extension": ".py",
   "mimetype": "text/x-python",
   "name": "python",
   "nbconvert_exporter": "python",
   "pygments_lexer": "ipython3",
   "version": "3.7.3"
  }
 },
 "nbformat": 4,
 "nbformat_minor": 2
}
